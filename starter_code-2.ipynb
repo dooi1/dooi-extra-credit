{
 "cells": [
  {
   "cell_type": "markdown",
   "metadata": {},
   "source": [
    "# Libraries"
   ]
  },
  {
   "cell_type": "code",
   "execution_count": 1,
   "metadata": {},
   "outputs": [],
   "source": [
    "import pandas as pd\n",
    "import numpy as np\n",
    "from sklearn.model_selection import train_test_split, StratifiedKFold, GridSearchCV\n",
    "from sklearn.preprocessing import StandardScaler, OrdinalEncoder\n",
    "from sklearn.ensemble import GradientBoostingClassifier\n",
    "from sklearn.metrics import classification_report, confusion_matrix, f1_score, precision_recall_curve\n",
    "from imblearn.over_sampling import SMOTE\n",
    "import seaborn as sns\n",
    "import matplotlib.pyplot as plt"
   ]
  },
  {
   "cell_type": "markdown",
   "metadata": {},
   "source": [
    "# Loading the Files\n",
    "\n",
    "Download the csv files into the `data/` directory."
   ]
  },
  {
   "cell_type": "code",
   "execution_count": 2,
   "metadata": {},
   "outputs": [
    {
     "name": "stdout",
     "output_type": "stream",
     "text": [
      "Train shape: (370703, 24)\n",
      "Test shape: (92676, 23)\n",
      "\n"
     ]
    }
   ],
   "source": [
    "train = pd.read_csv(\"./data/train.csv\")\n",
    "test = pd.read_csv(\"./data/test.csv\")\n",
    "\n",
    "print(f\"Train shape: {train.shape}\")\n",
    "print(f\"Test shape: {test.shape}\\n\")"
   ]
  },
  {
   "cell_type": "markdown",
   "metadata": {},
   "source": [
    "# Adding Features"
   ]
  },
  {
   "cell_type": "code",
   "execution_count": 3,
   "metadata": {},
   "outputs": [],
   "source": [
    "def feature_engineering(df, encoders=None, fit_encoders=False):\n",
    "    # Extract time-based features\n",
    "    df['hour'] = pd.to_datetime(df['trans_time'], format='%H:%M:%S').dt.hour\n",
    "    df['day_of_week'] = pd.to_datetime(df['trans_date']).dt.dayofweek\n",
    "    df['age'] = pd.Timestamp('now').year - pd.to_datetime(df['dob']).dt.year\n",
    "\n",
    "    # Calculate distance between cardholder and merchant\n",
    "    df['distance'] = np.sqrt((df['lat'] - df['merch_lat'])**2 + (df['long'] - df['merch_long'])**2)\n",
    "\n",
    "    # amt_per_capita: transaction amount relative to city population\n",
    "    df['amt_per_capita'] = df['amt'] / (df['city_pop'] + 1)\n",
    "\n",
    "    # Transaction velocity: Count transactions per user in a rolling time window\n",
    "    df['trans_count'] = df.groupby('cc_num')['unix_time'].transform(lambda x: x.rolling(window=3).count())\n",
    "\n",
    "    # Spending ratio: Compare transaction amount with the user’s mean spending\n",
    "    df['amt_ratio'] = df['amt'] / df.groupby('cc_num')['amt'].transform('mean')\n",
    "\n",
    "    # Encode categorical variables\n",
    "    cat_cols = ['category', 'gender', 'job', 'state', 'city', 'merchant']\n",
    "    if fit_encoders:\n",
    "        encoders = {}\n",
    "        ordinal_encoder = OrdinalEncoder(handle_unknown='use_encoded_value', unknown_value=-1)\n",
    "        df[cat_cols] = ordinal_encoder.fit_transform(df[cat_cols])\n",
    "        encoders['ordinal_encoder'] = ordinal_encoder\n",
    "    else:\n",
    "        ordinal_encoder = encoders['ordinal_encoder']\n",
    "        df[cat_cols] = ordinal_encoder.transform(df[cat_cols])\n",
    "\n",
    "    # Drop unused columns\n",
    "    df.drop(columns=['trans_date', 'trans_time', 'dob', 'first', 'last', 'street'], inplace=True)\n",
    "    return df, encoders"
   ]
  },
  {
   "cell_type": "markdown",
   "metadata": {},
   "source": [
    "# Sample + Split into training and testing set"
   ]
  },
  {
   "cell_type": "code",
   "execution_count": 4,
   "metadata": {},
   "outputs": [],
   "source": [
    "train, encoders = feature_engineering(train, fit_encoders=True)\n",
    "test, _ = feature_engineering(test, encoders=encoders, fit_encoders=False)"
   ]
  },
  {
   "cell_type": "markdown",
   "metadata": {},
   "source": [
    "# Feature Selection"
   ]
  },
  {
   "cell_type": "code",
   "execution_count": 5,
   "metadata": {},
   "outputs": [],
   "source": [
    "X = train.drop(columns=['is_fraud', 'trans_num', 'id'])\n",
    "y = train['is_fraud']\n",
    "X_test_submission = test.drop(columns=['trans_num', 'id'])\n",
    "\n",
    "##################################\n",
    "# Handle Class Imbalance with SMOTE\n",
    "##################################\n",
    "smote = SMOTE(random_state=42)\n",
    "X_smote, y_smote = smote.fit_resample(X, y)\n",
    "X_train, X_val, y_train, y_val = train_test_split(X_smote, y_smote, test_size=0.2, random_state=42, stratify=y_smote)\n",
    "\n",
    "# Scale numeric features\n",
    "numeric_features = ['amt', 'lat', 'long', 'merch_lat', 'merch_long', 'city_pop', 'amt_per_capita', 'age', 'hour', 'distance']\n",
    "scaler = StandardScaler()\n",
    "X_train[numeric_features] = scaler.fit_transform(X_train[numeric_features])\n",
    "X_val[numeric_features] = scaler.transform(X_val[numeric_features])\n",
    "X_test_submission[numeric_features] = scaler.transform(X_test_submission[numeric_features])"
   ]
  },
  {
   "cell_type": "markdown",
   "metadata": {},
   "source": [
    "# Model Creation"
   ]
  },
  {
   "cell_type": "code",
   "execution_count": 6,
   "metadata": {},
   "outputs": [
    {
     "name": "stdout",
     "output_type": "stream",
     "text": [
      "F1-Score on Validation Set: 0.9916369440859065\n",
      "\n",
      "Classification Report:\n",
      "               precision    recall  f1-score   support\n",
      "\n",
      "           0       0.99      0.99      0.99     65681\n",
      "           1       0.99      0.99      0.99     65681\n",
      "\n",
      "    accuracy                           0.99    131362\n",
      "   macro avg       0.99      0.99      0.99    131362\n",
      "weighted avg       0.99      0.99      0.99    131362\n",
      "\n"
     ]
    }
   ],
   "source": [
    "model = GradientBoostingClassifier(n_estimators=300, learning_rate=0.05, max_depth=5, random_state=42)\n",
    "model.fit(X_train, y_train)\n",
    "\n",
    "##################################\n",
    "# Model Evaluation\n",
    "##################################\n",
    "y_pred = model.predict(X_val)\n",
    "print(\"F1-Score on Validation Set:\", f1_score(y_val, y_pred))\n",
    "print(\"\\nClassification Report:\\n\", classification_report(y_val, y_pred))"
   ]
  },
  {
   "cell_type": "markdown",
   "metadata": {},
   "source": [
    "# Model Evaluation"
   ]
  },
  {
   "cell_type": "code",
   "execution_count": 7,
   "metadata": {},
   "outputs": [
    {
     "data": {
      "image/png": "[encoded data removed]",
      "text/plain": [
       "<Figure size 640x480 with 2 Axes>"
      ]
     },
     "metadata": {},
     "output_type": "display_data"
    }
   ],
   "source": [
    "cm = confusion_matrix(y_val, y_pred)\n",
    "sns.heatmap(cm, annot=True, fmt='d', cmap='Blues')\n",
    "plt.title(\"Confusion Matrix\")\n",
    "plt.xlabel(\"Predicted\")\n",
    "plt.ylabel(\"True\")\n",
    "plt.show()"
   ]
  },
  {
   "cell_type": "markdown",
   "metadata": {},
   "source": [
    "# Create submission file"
   ]
  },
  {
   "cell_type": "code",
   "execution_count": 8,
   "metadata": {},
   "outputs": [
    {
     "name": "stdout",
     "output_type": "stream",
     "text": [
      "Submission file created: fraud_submission.csv\n"
     ]
    }
   ],
   "source": [
    "y_test_pred = model.predict(X_test_submission)\n",
    "test['is_fraud'] = y_test_pred\n",
    "\n",
    "# Save submission file\n",
    "submission = test[['id', 'is_fraud']]\n",
    "submission.to_csv('./data/fraud_submission2.csv', index=False)\n",
    "print(\"Submission file created: fraud_submission2.csv\")"
   ]
  },
  {
   "cell_type": "code",
   "execution_count": null,
   "metadata": {},
   "outputs": [],
   "source": []
  }
 ],
 "metadata": {
  "kernelspec": {
   "display_name": "Python 3 (ipykernel)",
   "language": "python",
   "name": "python3"
  },
  "language_info": {
   "codemirror_mode": {
    "name": "ipython",
    "version": 3
   },
   "file_extension": ".py",
   "mimetype": "text/x-python",
   "name": "python",
   "nbconvert_exporter": "python",
   "pygments_lexer": "ipython3",
   "version": "3.10.0"
  }
 },
 "nbformat": 4,
 "nbformat_minor": 4
}
